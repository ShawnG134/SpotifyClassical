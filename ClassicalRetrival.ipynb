{
 "cells": [
  {
   "cell_type": "code",
   "execution_count": 7,
   "id": "631bb909",
   "metadata": {},
   "outputs": [],
   "source": [
    "import requests\n",
    "import pandas as pd\n",
    "import json\n",
    "\n",
    "base_url = \"http://imslp.org/imslpscripts/API.ISCR.php\"\n",
    "params = {\n",
    "    \"account\": \"worklist\",\n",
    "    \"disclaimer\": \"accepted\",\n",
    "    \"sort\": \"id\",\n",
    "    \"type\": \"2\",\n",
    "    \"retformat\": \"json\"\n",
    "}\n",
    "\n",
    "all_data = []\n",
    "\n",
    "for i in range(25):\n",
    "    params['start'] = i * 1000\n",
    "    url = f\"{base_url}?account={params['account']}/disclaimer={params['disclaimer']}/sort={params['sort']}/type={params['type']}/start={params['start']}/retformat={params['retformat']}\"\n",
    "    response = requests.get(url)\n",
    "    if response.status_code == 200:\n",
    "        data = json.loads(response.text)\n",
    "        for key, value in data.items():\n",
    "            if isinstance(value, dict) and 'intvals' in value:\n",
    "                composer = value['intvals'].get('composer', '')\n",
    "                worktitle = value['intvals'].get('worktitle', '')\n",
    "                all_data.append([composer, worktitle])\n",
    "    else:\n",
    "        print(f\"Failed to retrieve data for start={params['start']}\")\n",
    "\n",
    "df = pd.DataFrame(all_data, columns=['Composer', 'Work Title'])\n",
    "df.to_csv('composers_and_works.csv', index=False)\n"
   ]
  },
  {
   "cell_type": "code",
   "execution_count": 27,
   "id": "6ba63972",
   "metadata": {},
   "outputs": [],
   "source": [
    "for i in range(75,100):\n",
    "    params['start'] = i * 1000\n",
    "    url = f\"{base_url}?account={params['account']}/disclaimer={params['disclaimer']}/sort={params['sort']}/type={params['type']}/start={params['start']}/retformat={params['retformat']}\"\n",
    "    response = requests.get(url)\n",
    "    if response.status_code == 200:\n",
    "        data = json.loads(response.text)\n",
    "        for key, value in data.items():\n",
    "            if isinstance(value, dict) and 'intvals' in value:\n",
    "                composer = value['intvals'].get('composer', '')\n",
    "                worktitle = value['intvals'].get('worktitle', '')\n",
    "                all_data.append([composer, worktitle])\n",
    "    else:\n",
    "        print(f\"Failed to retrieve data for start={params['start']}\")"
   ]
  },
  {
   "cell_type": "code",
   "execution_count": 29,
   "id": "b1dce4a8",
   "metadata": {},
   "outputs": [],
   "source": [
    "df = pd.DataFrame(all_data, columns=['Composer', 'Work Title'])\n",
    "df.to_csv('composers_and_works.csv', index=False)"
   ]
  },
  {
   "cell_type": "code",
   "execution_count": 36,
   "id": "9d48f2cd",
   "metadata": {},
   "outputs": [],
   "source": [
    "famous_composers = [\n",
    "    \"Bach, Johann Sebastian\", \"Beethoven, Ludwig van\", \"Mozart, Wolfgang Amadeus\",\n",
    "    \"Chopin, Frédéric\", \"Tchaikovsky, Pyotr Ilyich\", \"Vivaldi, Antonio\",\n",
    "    \"Schubert, Franz\", \"Wagner, Richard\", \"Haydn, Joseph\", \"Liszt, Franz\",\n",
    "    \"Debussy, Claude\", \"Brahms, Johannes\", \"Mendelssohn, Felix\",\n",
    "    \"Mahler, Gustav\", \"Ravel, Maurice\", \"Strauss, Richard\",\n",
    "    \"Verdi, Giuseppe\", \"Puccini, Giacomo\", \"Handel, George Frideric\",\n",
    "    \"Rachmaninoff, Sergei\", \"Shostakovich, Dmitri\", \"Stravinsky, Igor\",\n",
    "    \"Berlioz, Hector\", \"Dvořák, Antonín\", \"Grieg, Edvard\", \"Bartók, Béla\",\n",
    "    \"Sibelius, Jean\", \"Saint-Saëns, Camille\", \"Prokofiev, Sergei\",\n",
    "    \"Schumann, Robert\", \"Bruckner, Anton\", \"Elgar, Edward\",\n",
    "    \"Smetana, Bedřich\", \"Franck, César\", \"Mussorgsky, Modest\",\n",
    "    \"Bizet, Georges\", \"Rimsky-Korsakov, Nikolai\", \"Borodin, Alexander\",\n",
    "    \"Offenbach, Jacques\", \"Monteverdi, Claudio\", \"Vaughan Williams, Ralph\",\n",
    "    \"Janáček, Leoš\", \"Weber, Carl Maria von\", \"Fauré, Gabriel\",\n",
    "    \"Albinoni, Tomaso\", \"Allegri, Gregorio\", \"Arne, Thomas\",\n",
    "    \"Balakirev, Mily\", \"Bellini, Vincenzo\", \"Boëly, Alexandre\",\n",
    "    \"Boieldieu, François-Adrien\", \"Britten, Benjamin\", \"Byrd, William\",\n",
    "    \"Carissimi, Giacomo\", \"Cavalli, Francesco\", \"Cimarosa, Domenico\",\n",
    "    \"Corelli, Arcangelo\", \"Couperin, François\", \"Delibes, Léo\"\n",
    "]\n",
    "\n",
    "# Filter DataFrame to include only famous composers\n",
    "famous_df = df[df['Composer'].isin(famous_composers)]\n",
    "famous_df.to_csv('famous_composers_and_works.csv', index=False)\n"
   ]
  },
  {
   "cell_type": "code",
   "execution_count": null,
   "id": "a32f3b98",
   "metadata": {},
   "outputs": [],
   "source": [
    "famous_df"
   ]
  }
 ],
 "metadata": {
  "kernelspec": {
   "display_name": "Python 3 (ipykernel)",
   "language": "python",
   "name": "python3"
  },
  "language_info": {
   "codemirror_mode": {
    "name": "ipython",
    "version": 3
   },
   "file_extension": ".py",
   "mimetype": "text/x-python",
   "name": "python",
   "nbconvert_exporter": "python",
   "pygments_lexer": "ipython3",
   "version": "3.11.5"
  }
 },
 "nbformat": 4,
 "nbformat_minor": 5
}
